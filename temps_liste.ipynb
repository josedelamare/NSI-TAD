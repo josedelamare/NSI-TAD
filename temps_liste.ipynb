{
 "cells": [
  {
   "cell_type": "markdown",
   "metadata": {},
   "source": [
    "# Implémentation d'une liste de deux façons différentes"
   ]
  },
  {
   "cell_type": "markdown",
   "metadata": {},
   "source": [
    "Exécutez les deux cellules ci-dessous pour charger les modules qui seront utilisés plus tard"
   ]
  },
  {
   "cell_type": "code",
   "execution_count": null,
   "metadata": {},
   "outputs": [],
   "source": [
    "! pip install matplotlib"
   ]
  },
  {
   "cell_type": "code",
   "execution_count": null,
   "metadata": {},
   "outputs": [],
   "source": [
    "import outils"
   ]
  },
  {
   "cell_type": "markdown",
   "metadata": {},
   "source": [
    "---\n",
    "## 1. Objectifs\n",
    "\n",
    "On souhaite implémenter une liste. Le cachier des charges indique que les fonctionnalités suivantes doivent exister :\n",
    "- créer une liste vide (fonction *creer*)\n",
    "- ajouter un élément au début de la liste (fonction *ajouter_tete*)\n",
    "- ajouter un élément à la fin de la liste (fonction *ajouter_queue*)\n",
    "- ajouter un élément à l'index *i* de la liste (fonction *ajouter_ici*)\n",
    "- rechercher si un élément est présent dans la liste (fonction *est_present*)\n",
    "\n",
    "Pour faire cela, Bob et Alice utilisent deux méthodes différentes. \n",
    "\n",
    "L'objectif de ce travail est de vérifier si les deux implémentations répondent au cahier des charges et de comparer leur efficacité."
   ]
  },
  {
   "cell_type": "markdown",
   "metadata": {},
   "source": [
    "Pour importer le travail d'Alice et Bob, exécutez la cellule ci-dessous :"
   ]
  },
  {
   "cell_type": "code",
   "execution_count": null,
   "metadata": {},
   "outputs": [],
   "source": [
    "import alice\n",
    "import bob"
   ]
  },
  {
   "cell_type": "markdown",
   "metadata": {},
   "source": [
    "---\n",
    "## 2. vérification du cahier des charges\n",
    "\n",
    "### 2.1 Création d'une liste\n",
    "\n",
    "La fonction *creer* permet de créer une liste vide. Cette liste vide est ensuite stockée dans la variable *liste_alice*.\n",
    "\n",
    "> **Travail à faire :\n",
    "> Exécutez la cellule ci-dessous pour créer la variable liste_alice et voir son contenu**"
   ]
  },
  {
   "cell_type": "code",
   "execution_count": null,
   "metadata": {},
   "outputs": [],
   "source": [
    "liste_alice = alice.creer()\n",
    "\n",
    "liste_alice"
   ]
  },
  {
   "cell_type": "markdown",
   "metadata": {},
   "source": [
    "> **Travail à faire :\n",
    "> Indiquez dans la cellule ci-dessous comment créer la variable liste_bob (utilisant l'implémentation de Bob) et voir son contenu**"
   ]
  },
  {
   "cell_type": "code",
   "execution_count": null,
   "metadata": {},
   "outputs": [],
   "source": [
    "## insérer ici votre code Python puis cliquez sur Run pour exécuter la cellule\n"
   ]
  },
  {
   "cell_type": "markdown",
   "metadata": {},
   "source": [
    "> **L'implémentation d'Alice et de Bob fournissent-elles le même résultat ?**"
   ]
  },
  {
   "cell_type": "code",
   "execution_count": null,
   "metadata": {},
   "outputs": [],
   "source": [
    "## insérer ici votre réponse sans cliquer sur Run\n"
   ]
  },
  {
   "cell_type": "markdown",
   "metadata": {},
   "source": [
    "### 2.2 Ajout d'un élément dans la liste\n",
    "\n",
    "> **Travail à faire :\n",
    "> Exécuter la cellule ci-dessous pour initialiser les deux variables**"
   ]
  },
  {
   "cell_type": "code",
   "execution_count": null,
   "metadata": {},
   "outputs": [],
   "source": [
    "liste_alice = []\n",
    "liste_bob = []"
   ]
  },
  {
   "cell_type": "markdown",
   "metadata": {},
   "source": [
    "La fonction *ajouter_tete* permet d'ajouter un élément en tête de la liste (soit à l'index 0). On stocke ensuite le résultat dans la variable *liste_alice*\n",
    "\n",
    "> **Travail à faire :\n",
    "> Exécuter la cellule ci-dessous pour visualiser la docstring de la fonction ajouter_tete**"
   ]
  },
  {
   "cell_type": "code",
   "execution_count": null,
   "metadata": {},
   "outputs": [],
   "source": [
    "help(alice.ajouter_tete)"
   ]
  },
  {
   "cell_type": "markdown",
   "metadata": {},
   "source": [
    "> **Travail à faire :\n",
    "> Exécutez la cellule ci-dessous pour ajouter le nombre 5 dans liste_alice et voir son contenu**"
   ]
  },
  {
   "cell_type": "code",
   "execution_count": null,
   "metadata": {},
   "outputs": [],
   "source": [
    "liste_alice = alice.ajouter_tete(5, liste_alice)\n",
    "liste_alice"
   ]
  },
  {
   "cell_type": "markdown",
   "metadata": {},
   "source": [
    "> **Travail à faire :\n",
    "> Indiquez dans la cellule ci-dessous comment visualiser la docstring de ajouter_tete (implémenté par Bob)**"
   ]
  },
  {
   "cell_type": "code",
   "execution_count": null,
   "metadata": {},
   "outputs": [],
   "source": [
    "## insérer ici votre code Python puis cliquez sur Run pour exécuter la cellule\n"
   ]
  },
  {
   "cell_type": "markdown",
   "metadata": {},
   "source": [
    "> **Travail à faire :\n",
    "> Indiquez dans la cellule ci-dessous le code Python permettant d'ajouter le nombre 5 dans liste_bob et voir son contenu**"
   ]
  },
  {
   "cell_type": "code",
   "execution_count": null,
   "metadata": {},
   "outputs": [],
   "source": [
    "## insérer ici votre code Python puis cliquez sur Run pour exécuter la cellule\n"
   ]
  },
  {
   "cell_type": "markdown",
   "metadata": {},
   "source": [
    "> **L'implémentation d'Alice et de Bob fournissent-elles le même résultat ?**"
   ]
  },
  {
   "cell_type": "code",
   "execution_count": null,
   "metadata": {},
   "outputs": [],
   "source": [
    "## insérer ici votre réponse sans cliquer sur Run\n"
   ]
  },
  {
   "cell_type": "markdown",
   "metadata": {},
   "source": [
    "### 2.3 Complétons la liste par la queue"
   ]
  },
  {
   "cell_type": "markdown",
   "metadata": {},
   "source": [
    "> **Travail à faire :\n",
    "> Exécuter la cellule ci-dessous pour initialiser les deux variables**"
   ]
  },
  {
   "cell_type": "code",
   "execution_count": null,
   "metadata": {},
   "outputs": [],
   "source": [
    "liste_alice = [5]\n",
    "liste_bob = [5]"
   ]
  },
  {
   "cell_type": "markdown",
   "metadata": {},
   "source": [
    "La fonction *ajouter_queue* permet d'ajouter un élément en dernière position de la liste.\n",
    "> **Travail à faire :\n",
    "> Exécutez la cellule ci-dessous pour visualiser la docstring de la fonction ajouter_queue**"
   ]
  },
  {
   "cell_type": "code",
   "execution_count": null,
   "metadata": {},
   "outputs": [],
   "source": [
    "help(alice.ajouter_tete)"
   ]
  },
  {
   "cell_type": "markdown",
   "metadata": {},
   "source": [
    "> **Travail à faire :\n",
    "> Exécutez la cellule ci-dessous pour ajouter le nombre 6 en dernière position dans liste_alice et voir son contenu**"
   ]
  },
  {
   "cell_type": "code",
   "execution_count": null,
   "metadata": {},
   "outputs": [],
   "source": [
    "liste_alice = alice.ajouter_queue(6, liste_alice)\n",
    "liste_alice"
   ]
  },
  {
   "cell_type": "markdown",
   "metadata": {},
   "source": [
    "> **Travail à faire :\n",
    "> Indiquez dans la cellule ci-dessous comment visualiser la docstring de ajouter_queue (implémenté par Bob)**"
   ]
  },
  {
   "cell_type": "code",
   "execution_count": null,
   "metadata": {},
   "outputs": [],
   "source": [
    "## insérer ici votre code Python puis cliquez sur Run pour exécuter la cellule\n"
   ]
  },
  {
   "cell_type": "markdown",
   "metadata": {},
   "source": [
    "> **Travail à faire :\n",
    "> Indiquez dans la cellule ci-dessous le code Python permettant d'ajouter le nombre 6 en dernière position dans liste_bob et voir son contenu**"
   ]
  },
  {
   "cell_type": "code",
   "execution_count": null,
   "metadata": {},
   "outputs": [],
   "source": [
    "## insérer ici votre code Python puis cliquez sur Run pour exécuter la cellule\n"
   ]
  },
  {
   "cell_type": "markdown",
   "metadata": {},
   "source": [
    "> **L'implémentation d'Alice et de Bob fournissent-elles le même résultat ?**"
   ]
  },
  {
   "cell_type": "code",
   "execution_count": null,
   "metadata": {},
   "outputs": [],
   "source": [
    "## insérer ici votre réponse sans cliquer sur Run\n"
   ]
  },
  {
   "cell_type": "markdown",
   "metadata": {},
   "source": [
    "### 2.3 Complétons les deux listes"
   ]
  },
  {
   "cell_type": "markdown",
   "metadata": {},
   "source": [
    "> **Travail à faire :\n",
    "> Exécuter la cellule ci-dessous pour initialiser les deux variables**"
   ]
  },
  {
   "cell_type": "code",
   "execution_count": null,
   "metadata": {},
   "outputs": [],
   "source": [
    "liste_alice = [5, 6]\n",
    "liste_bob = [5, 6]"
   ]
  },
  {
   "cell_type": "markdown",
   "metadata": {},
   "source": [
    "> **Travail à faire :\n",
    "> Indiquez dans la cellule ci-dessous les instructions utilisant les fonctions ajouter_tete et ajouter_queue permettant que liste_alice contienne les éléments suivants : [4, 5, 6, 7]**"
   ]
  },
  {
   "cell_type": "code",
   "execution_count": null,
   "metadata": {},
   "outputs": [],
   "source": [
    "## insérer ici votre code Python puis cliquez sur Run pour exécuter la cellule\n"
   ]
  },
  {
   "cell_type": "markdown",
   "metadata": {},
   "source": [
    "> **Travail à faire :\n",
    "> Indiquez dans la cellule ci-dessous les instructions utilisant les fonctions ajouter_tete et ajouter_queue permettant que liste_bob contienne les éléments suivants : [4, 5, 6, 7]**"
   ]
  },
  {
   "cell_type": "code",
   "execution_count": null,
   "metadata": {},
   "outputs": [],
   "source": [
    "## insérer ici votre code Python puis cliquez sur Run pour exécuter la cellule\n"
   ]
  },
  {
   "cell_type": "markdown",
   "metadata": {},
   "source": [
    "> **L'implémentation d'Alice et de Bob permettent-elles de fournir le même résultat ?**"
   ]
  },
  {
   "cell_type": "code",
   "execution_count": null,
   "metadata": {},
   "outputs": [],
   "source": [
    "## insérer ici votre réponse sans cliquer sur Run\n"
   ]
  },
  {
   "cell_type": "markdown",
   "metadata": {},
   "source": [
    "> **Les instructions à utiliser sont-elles identique dans les implémentations d'Alice et de Bob ?**"
   ]
  },
  {
   "cell_type": "code",
   "execution_count": null,
   "metadata": {},
   "outputs": [],
   "source": [
    "## insérer ici votre réponse sans cliquer sur Run\n"
   ]
  },
  {
   "cell_type": "markdown",
   "metadata": {},
   "source": [
    "### 2.4 Recherche d'un élément dans la liste\n",
    "\n",
    "la fonction *est_present* renvoie <code>True</code> si l'élément est présent dans la liste.\n",
    "> **Travail à faire :\n",
    "> Exécutez la cellule ci-dessous pour visualiser la docstring de la fonction est_present**"
   ]
  },
  {
   "cell_type": "code",
   "execution_count": null,
   "metadata": {},
   "outputs": [],
   "source": [
    "help(alice.est_present)"
   ]
  },
  {
   "cell_type": "markdown",
   "metadata": {},
   "source": [
    "> **Travail à faire :\n",
    "> Indiquez dans la cellule ci-dessous le code Python permettant de savoir si 5 est présent dans liste_alice**"
   ]
  },
  {
   "cell_type": "code",
   "execution_count": null,
   "metadata": {},
   "outputs": [],
   "source": [
    "## insérer ici votre code Python puis cliquez sur Run pour exécuter la cellule\n"
   ]
  },
  {
   "cell_type": "markdown",
   "metadata": {},
   "source": [
    "> **Travail à faire :\n",
    "> Indiquez dans la cellule ci-dessous le code Python permettant de savoir si 5 est présent dans liste_bob**"
   ]
  },
  {
   "cell_type": "code",
   "execution_count": null,
   "metadata": {},
   "outputs": [],
   "source": [
    "## insérer ici votre code Python puis cliquez sur Run pour exécuter la cellule\n"
   ]
  },
  {
   "cell_type": "markdown",
   "metadata": {},
   "source": [
    "> **L'implémentation d'Alice et de Bob permettent-elles de fournir le même résultat ?**"
   ]
  },
  {
   "cell_type": "code",
   "execution_count": null,
   "metadata": {},
   "outputs": [],
   "source": [
    "## insérer ici votre réponse sans cliquer sur Run\n"
   ]
  },
  {
   "cell_type": "markdown",
   "metadata": {},
   "source": [
    "### 2.5 Conclusion"
   ]
  },
  {
   "cell_type": "markdown",
   "metadata": {},
   "source": [
    "> **Faîtes vous une différence entre les implémentations d'Alice et de Bob ?**"
   ]
  },
  {
   "cell_type": "code",
   "execution_count": null,
   "metadata": {},
   "outputs": [],
   "source": [
    "## insérer ici votre réponse sans cliquer sur Run\n"
   ]
  },
  {
   "cell_type": "markdown",
   "metadata": {},
   "source": [
    "---\n",
    "## 3. Comparaison des temps d'exécution des différentes fonctions\n",
    "\n",
    "Nous venons de voir que les implémentations d'Alice et de Bob sont identique d'un point de vue de l'utilisateur. Qu'en est-il du point de vue de la machine ?"
   ]
  },
  {
   "cell_type": "markdown",
   "metadata": {},
   "source": [
    "Le fichier *outils.py* permet de comparer le temps d'exécution des différentes fonctions inspectées précédemment. \n",
    "\n",
    "### 3.1. Fonction ajout_tete\n",
    "\n",
    "3.1. La fonction *trace_ajout_tete* permet de tracer le temps d'exécution de la fonction *ajouter_tete* implémentée par Alice et par Bob. Le graphique représente le temps d'exécution en fonction du nombre d'éléments dans la liste.\n",
    "\n",
    "> **Travail à faire\n",
    "> Exécutez la cellule ci-dessous pour comparer le temps d'exécution pour des listes dont la longueur est comprise entre 0 et 50**"
   ]
  },
  {
   "cell_type": "code",
   "execution_count": null,
   "metadata": {},
   "outputs": [],
   "source": [
    "outils.trace_ajout_tete(50)"
   ]
  },
  {
   "cell_type": "markdown",
   "metadata": {},
   "source": [
    "> **Travail à faire\n",
    "> Indiquez dans la cellule ci-dessous le code Python permettant de comparer le temps d'exécution pour des listes dont la longueur est comprise entre 0 et 1000**"
   ]
  },
  {
   "cell_type": "code",
   "execution_count": null,
   "metadata": {},
   "outputs": [],
   "source": [
    "## insérer ici votre code Python puis cliquez sur Run pour exécuter la cellule\n"
   ]
  },
  {
   "cell_type": "markdown",
   "metadata": {},
   "source": [
    "La fonction *trace_ajout_queue* permet de tracer le temps d'exécution de la fonction *ajouter_queue* implémentée par Alice et par Bob. Le graphique représente le temps d'exécution en fonction du nombre d'éléments dans la liste.\n",
    "\n",
    "> **Travail à faire\n",
    "> Exécutez la cellule ci-dessous pour comparer le temps d'exécution pour des listes dont la longueur est comprise entre 0 et 50**"
   ]
  },
  {
   "cell_type": "code",
   "execution_count": null,
   "metadata": {},
   "outputs": [],
   "source": [
    "outils.trace_ajout_queue(50)"
   ]
  },
  {
   "cell_type": "markdown",
   "metadata": {},
   "source": [
    "> **Travail à faire\n",
    "> Indiquez dans la cellule ci-dessous le code Python permettant de comparer le temps d'exécution pour des listes dont la longueur est comprise entre 0 et 1000**"
   ]
  },
  {
   "cell_type": "code",
   "execution_count": null,
   "metadata": {},
   "outputs": [],
   "source": [
    "## insérer ici votre code Python puis cliquez sur Run pour exécuter la cellule\n"
   ]
  },
  {
   "cell_type": "markdown",
   "metadata": {},
   "source": [
    "### 3.2. Fonction ajout_queue\n",
    "\n",
    "La fonction *trace_ajout_queue* permet de tracer le temps d'exécution de la fonction *ajouter_queue* implémentée par Alice et par Bob. Le graphique représente le temps d'exécution en fonction du nombre d'éléments dans la liste.\n",
    "\n",
    "> **Travail à faire\n",
    "> Exécutez la cellule ci-dessous pour comparer le temps d'exécution pour des listes dont la longueur est comprise entre 0 et 50**"
   ]
  },
  {
   "cell_type": "code",
   "execution_count": null,
   "metadata": {},
   "outputs": [],
   "source": [
    "outils.trace_ajout_queue(50)"
   ]
  },
  {
   "cell_type": "markdown",
   "metadata": {},
   "source": [
    "> **Travail à faire\n",
    "> Indiquez dans la cellule ci-dessous le code Python permettant de comparer le temps d'exécution pour des listes dont la longueur est comprise entre 0 et 1000**"
   ]
  },
  {
   "cell_type": "code",
   "execution_count": null,
   "metadata": {},
   "outputs": [],
   "source": [
    "## insérer ici votre code Python puis cliquez sur Run pour exécuter la cellule\n"
   ]
  },
  {
   "cell_type": "markdown",
   "metadata": {},
   "source": [
    "### 3.3. Fonction est_present\n",
    "\n",
    "La fonction *trace_est_present* permet de tracer le temps d'exécution de la fonction *est_present* implémentée par Alice et par Bob. Le graphique représente le temps d'exécution en fonction du nombre d'éléments dans la liste.\n",
    "\n",
    "> **Travail à faire\n",
    "> Exécutez la cellule ci-dessous pour comparer le temps d'exécution pour des listes dont la longueur est comprise entre 0 et 50**"
   ]
  },
  {
   "cell_type": "code",
   "execution_count": null,
   "metadata": {},
   "outputs": [],
   "source": [
    "outils.trace_est_present(50)"
   ]
  },
  {
   "cell_type": "markdown",
   "metadata": {},
   "source": [
    "> **Travail à faire\n",
    "> Indiquez dans la cellule ci-dessous le code Python permettant de comparer le temps d'exécution pour des listes dont la longueur est comprise entre 0 et 1000**"
   ]
  },
  {
   "cell_type": "code",
   "execution_count": null,
   "metadata": {},
   "outputs": [],
   "source": [
    "## insérer ici votre code Python puis cliquez sur Run pour exécuter la cellule\n"
   ]
  },
  {
   "cell_type": "markdown",
   "metadata": {},
   "source": [
    "### 3.4 Conclusion\n",
    "\n"
   ]
  },
  {
   "cell_type": "markdown",
   "metadata": {},
   "source": [
    "---\n",
    "## 4. Regardons sous le capot\n",
    "\n",
    "Ouvrez les fichiers [alice.py](alice.py) et [bob.py](bob.py) (n'oubliez pas de faire Ctrl + clic), et observez leur contenu.\n",
    "\n",
    "> **Travail à faire : \n",
    "> Alice et Bob ont-ils utilisé la même structure pour implémenter une liste ?**"
   ]
  },
  {
   "cell_type": "code",
   "execution_count": null,
   "metadata": {},
   "outputs": [],
   "source": [
    "## insérer ici votre réponse sans cliquer sur Run\n"
   ]
  },
  {
   "cell_type": "code",
   "execution_count": null,
   "metadata": {},
   "outputs": [],
   "source": []
  }
 ],
 "metadata": {
  "kernelspec": {
   "display_name": "Python 3",
   "language": "python",
   "name": "python3"
  },
  "language_info": {
   "codemirror_mode": {
    "name": "ipython",
    "version": 3
   },
   "file_extension": ".py",
   "mimetype": "text/x-python",
   "name": "python",
   "nbconvert_exporter": "python",
   "pygments_lexer": "ipython3",
   "version": "3.8.3"
  }
 },
 "nbformat": 4,
 "nbformat_minor": 4
}
